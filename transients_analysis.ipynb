{
 "cells": [
  {
   "cell_type": "markdown",
   "source": [
    "# Анализ рентгеновских транзиентов СРГ"
   ],
   "metadata": {
    "collapsed": false,
    "pycharm": {
     "name": "#%% md\n"
    }
   }
  },
  {
   "cell_type": "code",
   "execution_count": null,
   "outputs": [],
   "source": [
    "from enum import Enum\n",
    "from pathlib import Path\n",
    "import re\n",
    "import warnings\n",
    "\n",
    "import numpy as np\n",
    "import matplotlib as mpl\n",
    "import matplotlib.pyplot as plt\n",
    "import pandas as pd\n",
    "import seaborn as sns\n",
    "from sklearn.cluster import KMeans\n",
    "from sklearnex import patch_sklearn\n",
    "from sklearn.decomposition import PCA, SparsePCA\n",
    "from tqdm.auto import tqdm\n",
    "\n",
    "\n",
    "# Charts configurations\n",
    "np.set_printoptions(precision=3)\n",
    "sns.set('talk', 'whitegrid', 'deep', font_scale=1.0,\n",
    "        rc={\"lines.linewidth\": 2, 'grid.linestyle': '--'})\n",
    "pd.set_option('display.max_rows', 400, 'display.max_columns', None, 'display.max_colwidth', 100)\n",
    "plt.rcParams.update({'font.size': 24})\n",
    "warnings.filterwarnings('ignore')\n",
    "\n",
    "%matplotlib inline\n",
    "%config InlineBackend.figure_format = 'retina'\n",
    "\n",
    "\n",
    "# Sklearn acceleration\n",
    "patch_sklearn()\n",
    "\n",
    "\n",
    "# Enums\n",
    "TRANSIENT_SURVEY = Enum(\"TRANSIENT_SURVEY\",\n",
    "                        [\"NONE\", \"eXVAR\", \"TDEs2\", \"FDS4\", \"TDEs4\", \"QPE\", \"eXVAGN3\", \"TDEs5\", \"TDEs2r7\"])\n",
    "TRANSIENT_CLASS = Enum(\"TRANSIENT_CLASS\", [\"NONE\", \"TDE\", \"QSO\"])\n",
    "\n",
    "\n",
    "# Paths\n",
    "ASSEMBLED_DATA_PATH = Path(\"assembled_data/\")\n",
    "SRG_DATA_PATH = Path(\"srg_data/\")\n",
    "TRITON_DATA_PATH = Path(\"triton_data/\")"
   ],
   "metadata": {
    "collapsed": false,
    "pycharm": {
     "name": "#%%\n"
    }
   }
  },
  {
   "cell_type": "markdown",
   "source": [
    "## Подготовка данных\n",
    "\n",
    "Чтение данных из системы разметки"
   ],
   "metadata": {
    "collapsed": false,
    "pycharm": {
     "name": "#%% md\n"
    }
   }
  },
  {
   "cell_type": "code",
   "execution_count": null,
   "outputs": [],
   "source": [
    "# read data and rename columns\n",
    "\n",
    "def get_column_name_mapper(prefix: str):\n",
    "        return lambda column_name: f\"{prefix}_{{}}\".format(column_name)\n",
    "\n",
    "\n",
    "meta_object_data = pd.read_parquet(SRG_DATA_PATH / \"surveys_metaobject.parquet\")\n",
    "erosita_data = (\n",
    "        pd.read_parquet(SRG_DATA_PATH / \"surveys_erosita.parquet\")\n",
    "        .rename(get_column_name_mapper(\"ero\"), axis=1)\n",
    ")\n",
    "ls_data = (\n",
    "        pd.read_parquet(SRG_DATA_PATH / \"surveys_ls.parquet\")\n",
    "        .rename(get_column_name_mapper(\"ls\"), axis=1)\n",
    ")\n",
    "ps_data = (\n",
    "        pd.read_parquet(SRG_DATA_PATH / \"surveys_ps.parquet\")\n",
    "        .rename(get_column_name_mapper(\"ps\"), axis=1)\n",
    ")\n",
    "sdss_data = (\n",
    "        pd.read_parquet(SRG_DATA_PATH / \"surveys_sdss.parquet\")\n",
    "        .rename(get_column_name_mapper(\"sdss\"), axis=1)\n",
    ")\n",
    "gaia_data = (\n",
    "        pd.read_parquet(SRG_DATA_PATH / \"surveys_gaia.parquet\")\n",
    "        .rename(get_column_name_mapper(\"gaia\"), axis=1)\n",
    ")"
   ],
   "metadata": {
    "collapsed": false,
    "pycharm": {
     "name": "#%%\n"
    }
   }
  },
  {
   "cell_type": "code",
   "execution_count": null,
   "outputs": [],
   "source": [
    "meta_object_data.shape"
   ],
   "metadata": {
    "collapsed": false,
    "pycharm": {
     "name": "#%%\n"
    }
   }
  },
  {
   "cell_type": "code",
   "execution_count": null,
   "outputs": [],
   "source": [
    "# merge tables\n",
    "\n",
    "print(erosita_data.shape)\n",
    "erosita_data = pd.merge(left=erosita_data, right=ls_data, left_on=\"ero_ls_dup\", right_on=\"ls_id\", how=\"left\")\n",
    "erosita_data = pd.merge(left=erosita_data, right=ps_data, left_on=\"ero_ps_dup\", right_on=\"ps_id\", how=\"left\")\n",
    "erosita_data = pd.merge(left=erosita_data, right=sdss_data, left_on=\"ero_sdss_dup\", right_on=\"sdss_id\", how=\"left\")\n",
    "erosita_data = pd.merge(left=erosita_data, right=gaia_data, left_on=\"ero_gaia_dup\", right_on=\"gaia_id\", how=\"left\")\n",
    "print(erosita_data.shape)\n",
    "\n",
    "\n",
    "meta_object_to_erosita_relation = pd.read_parquet(SRG_DATA_PATH / \"surveys_erosita_meta_objects.parquet\")\n",
    "print(meta_object_to_erosita_relation.shape)\n",
    "meta_object_to_erosita_relation = pd.merge(left=meta_object_data, right=meta_object_to_erosita_relation,\n",
    "                                           left_on=\"id\", right_on=\"metaobject_id\")\n",
    "meta_object_to_erosita_relation = pd.merge(left=meta_object_to_erosita_relation, right=erosita_data,\n",
    "                                           left_on=\"erosita_id\", right_on=\"ero_id\")\n",
    "print(meta_object_to_erosita_relation.shape)"
   ],
   "metadata": {
    "collapsed": false,
    "pycharm": {
     "name": "#%%\n"
    }
   }
  },
  {
   "cell_type": "code",
   "execution_count": null,
   "outputs": [],
   "source": [
    "# as we do not have master survey connection, get source with max x-ray flux for every meta object\n",
    "# and save the result\n",
    "\n",
    "group_max_xflux = list()\n",
    "\n",
    "for _, group in tqdm(meta_object_to_erosita_relation.groupby(\"metaobject_id\")):\n",
    "        group = group.loc[group[\"ero_flux_05_20\"] == group[\"ero_flux_05_20\"].max()]\n",
    "        group_max_xflux.append(group)\n",
    "\n",
    "assmbled_srg_data = pd.concat(group_max_xflux, axis=0)\n",
    "assmbled_srg_data.to_parquet(ASSEMBLED_DATA_PATH / \"srg_data.parquet\", compression=\"GZIP\")\n",
    "assmbled_srg_data.shape"
   ],
   "metadata": {
    "collapsed": false,
    "pycharm": {
     "name": "#%%\n"
    }
   }
  },
  {
   "cell_type": "markdown",
   "source": [
    "# Подготовка данных спектральных наблюдений"
   ],
   "metadata": {
    "collapsed": false,
    "pycharm": {
     "name": "#%% md\n"
    }
   }
  },
  {
   "cell_type": "markdown",
   "source": [
    "## Чтение данных с признаками и подготовка разметки\n",
    "\n",
    "В этих данных содержатся комментарии наблюдателей, из которых класс источника нужно вычленить в отдельный столбец\n",
    "\n",
    "В первом приближении в качестве класса возьмем программу наблюдений"
   ],
   "metadata": {
    "collapsed": false,
    "pycharm": {
     "name": "#%% md\n"
    }
   }
  },
  {
   "cell_type": "code",
   "execution_count": null,
   "outputs": [],
   "source": [
    "def mag_ab_from_flux_nanomagies(flux):\n",
    "        return 22.5 - 2.5 * np.log10(flux)\n",
    "\n",
    "triton_with_photometry_path = TRITON_DATA_PATH / \"x1a\" / \"part-00000.features.gz_pkl\"\n",
    "triton_data = pd.read_pickle(triton_with_photometry_path, compression=\"gzip\")\n",
    "triton_data = triton_data.loc[triton_data[\"Prog\"].isin(TRANSIENT_SURVEY._member_names_)]\n",
    "\n",
    "triton_data[\"ls_mag_g_ab\"] = mag_ab_from_flux_nanomagies(triton_data[\"ls_flux_g\"])\n",
    "triton_data[\"ls_mag_r_ab\"] = mag_ab_from_flux_nanomagies(triton_data[\"ls_flux_r\"])\n",
    "triton_data[\"ls_mag_z_ab\"] = mag_ab_from_flux_nanomagies(triton_data[\"ls_flux_z\"])\n",
    "triton_data[\"ls_mag_w1_ab\"] = mag_ab_from_flux_nanomagies(triton_data[\"ls_flux_w1\"])\n",
    "triton_data[\"ls_mag_w2_ab\"] = mag_ab_from_flux_nanomagies(triton_data[\"ls_flux_w2\"])\n",
    "\n",
    "triton_data.to_parquet(ASSEMBLED_DATA_PATH / \"triton_data.parquet\", compression=\"GZIP\")\n",
    "\n",
    "triton_data.shape"
   ],
   "metadata": {
    "collapsed": false,
    "pycharm": {
     "name": "#%%\n"
    }
   }
  },
  {
   "cell_type": "code",
   "execution_count": null,
   "outputs": [],
   "source": [
    "for index, row in (\n",
    "        triton_data.loc[triton_data[\"Redshift_str\"]\n",
    "        .apply(lambda s: float(s.replace(\",\", \".\")) if s is not None else -1) > 0]\n",
    "        .iterrows()\n",
    "):\n",
    "    print(f\"{index}\\t{row['ObserverNotes']}\\n\\n\")"
   ],
   "metadata": {
    "collapsed": false,
    "pycharm": {
     "name": "#%%\n"
    }
   }
  },
  {
   "cell_type": "markdown",
   "source": [
    "# Анализ с кластеризацией TBD"
   ],
   "metadata": {
    "collapsed": false,
    "pycharm": {
     "name": "#%% md\n"
    }
   }
  },
  {
   "cell_type": "code",
   "execution_count": null,
   "outputs": [],
   "source": [
    "def calc_ls_colors(features):\n",
    "        features[\"ls_g-r_color\"] = features[\"ls_mag_g_ab\"] - features[\"ls_mag_r_ab\"]\n",
    "        features[\"ls_g-z_color\"] = features[\"ls_mag_g_ab\"] - features[\"ls_mag_z_ab\"]\n",
    "        features[\"ls_g-w1_color\"] = features[\"ls_mag_g_ab\"] - features[\"ls_mag_w1_ab\"]\n",
    "        features[\"ls_g-w2_color\"] = features[\"ls_mag_g_ab\"] - features[\"ls_mag_w2_ab\"]\n",
    "        features[\"ls_r-z_color\"] = features[\"ls_mag_r_ab\"] - features[\"ls_mag_z_ab\"]\n",
    "        features[\"ls_r-w1_color\"] = features[\"ls_mag_r_ab\"] - features[\"ls_mag_w1_ab\"]\n",
    "        features[\"ls_r-w2_color\"] = features[\"ls_mag_r_ab\"] - features[\"ls_mag_w2_ab\"]\n",
    "        features[\"ls_z-w1_color\"] = features[\"ls_mag_z_ab\"] - features[\"ls_mag_w1_ab\"]\n",
    "        features[\"ls_z-w2_color\"] = features[\"ls_mag_z_ab\"] - features[\"ls_mag_w2_ab\"]\n",
    "        features[\"ls_w1-w2_color\"] = features[\"ls_mag_w1_ab\"] - features[\"ls_mag_w2_ab\"]\n",
    "        return features"
   ],
   "metadata": {
    "collapsed": false,
    "pycharm": {
     "name": "#%%\n"
    }
   }
  },
  {
   "cell_type": "code",
   "execution_count": null,
   "outputs": [],
   "source": [
    "features = assmbled_srg_data[[\"ls_mag_g_ab\", \"ls_mag_r_ab\", \"ls_mag_z_ab\", \"ls_mag_w1_ab\", \"ls_mag_w2_ab\"]]\n",
    "features[\"ln_x\"] = np.log10(assmbled_srg_data[\"ero_flux_05_20\"])\n",
    "features = calc_ls_colors(features)\n",
    "features = features.loc[features.notna().all(axis=1)]\n"
   ],
   "metadata": {
    "collapsed": false,
    "pycharm": {
     "name": "#%%\n"
    }
   }
  },
  {
   "cell_type": "code",
   "execution_count": null,
   "outputs": [],
   "source": [
    "triton_data = pd.read_parquet(ASSEMBLED_DATA_PATH / \"triton_data.parquet\")\n",
    "\n",
    "tde_surveys = [TRANSIENT_SURVEY.TDEs2, TRANSIENT_SURVEY.TDEs4, TRANSIENT_SURVEY.TDEs5, TRANSIENT_SURVEY.TDEs2r7]\n",
    "\n",
    "triton_data[\"Class\"] = triton_data.apply(lambda x: TRANSIENT_SURVEY[x[\"Prog\"]], axis=1)\n",
    "triton_data[\"Class\"] = triton_data.apply(lambda x: (\"TDE\" if x[\"Class\"] in tde_surveys else \"QSO\"), axis=1)\n",
    "\n",
    "features = triton_data[[\"Class\", \"ls_mag_g_ab\", \"ls_mag_r_ab\", \"ls_mag_z_ab\", \"ls_mag_w1_ab\", \"ls_mag_w2_ab\"]]\n",
    "features = features.loc[features.replace([-np.inf, np.inf], np.nan).notna().all(axis=1)]\n",
    "features = calc_ls_colors(features)\n",
    "\n",
    "features_to_show = features[[\"Class\", \"ls_g-r_color\", \"ls_g-w1_color\", \"ls_r-z_color\", \"ls_r-w1_color\", \"ls_z-w1_color\", \"ls_w1-w2_color\"]]\n",
    "\n",
    "sns.pairplot(features_to_show, hue=\"Class\")"
   ],
   "metadata": {
    "collapsed": false,
    "pycharm": {
     "name": "#%%\n"
    }
   }
  },
  {
   "cell_type": "code",
   "execution_count": null,
   "outputs": [],
   "source": [
    "features = triton_data[[\"Class\", \"psdr2_g_kron\", \"psdr2_r_kron\", \"psdr2_i_kron\", \"psdr2_z_kron\", \"psdr2_y_kron\", \"psdr2_g_psf\",\n",
    "                        \"psdr2_r_psf\", \"psdr2_i_psf\", \"psdr2_z_psf\", \"psdr2_y_psf\", \"psdr2_g-r_psf\", \"psdr2_g-i_psf\", \"psdr2_g-z_psf\",\n",
    "                        \"psdr2_g-y_psf\", \"psdr2_g_psf-kron\", \"psdr2_r-i_psf\", \"psdr2_r-z_psf\", \"psdr2_r-y_psf\", \"psdr2_r_psf-kron\",\n",
    "                        \"psdr2_i-z_psf\", \"psdr2_i-y_psf\", \"psdr2_i_psf-kron\", \"psdr2_z-y_psf\", \"psdr2_z_psf-kron\", \"psdr2_y_psf-kron\",\n",
    "                        \"ls_mag_g_ab\", \"ls_mag_r_ab\", \"ls_mag_z_ab\", \"ls_mag_w1_ab\", \"ls_mag_w2_ab\"]]\n",
    "features = features.loc[features.replace([-np.inf, np.inf], np.nan).notna().all(axis=1)]\n",
    "\n",
    "features_to_show = features[[\"Class\", \"psdr2_i-z_psf\", \"psdr2_i-y_psf\", \"psdr2_i_psf-kron\", \"psdr2_z-y_psf\", \"psdr2_z_psf-kron\", \"psdr2_y_psf-kron\"]]\n",
    "\n",
    "sns.pairplot(features_to_show, hue=\"Class\", markers=[\"x\", \"+\"])"
   ],
   "metadata": {
    "collapsed": false,
    "pycharm": {
     "name": "#%%\n"
    }
   }
  },
  {
   "cell_type": "code",
   "execution_count": null,
   "outputs": [],
   "source": [],
   "metadata": {
    "collapsed": false,
    "pycharm": {
     "name": "#%%\n"
    }
   }
  },
  {
   "cell_type": "code",
   "execution_count": null,
   "outputs": [],
   "source": [
    "pca = PCA(5)\n",
    "\n",
    "features = triton_data[[\"Class\", \"psdr2_g_kron\", \"psdr2_r_kron\", \"psdr2_i_kron\", \"psdr2_z_kron\", \"psdr2_y_kron\", \"psdr2_g_psf\",\n",
    "                        \"psdr2_r_psf\", \"psdr2_i_psf\", \"psdr2_z_psf\", \"psdr2_y_psf\", \"psdr2_g-r_psf\", \"psdr2_g-i_psf\", \"psdr2_g-z_psf\",\n",
    "                        \"psdr2_g-y_psf\", \"psdr2_g_psf-kron\", \"psdr2_r-i_psf\", \"psdr2_r-z_psf\", \"psdr2_r-y_psf\", \"psdr2_r_psf-kron\",\n",
    "                        \"psdr2_i-z_psf\", \"psdr2_i-y_psf\", \"psdr2_i_psf-kron\", \"psdr2_z-y_psf\", \"psdr2_z_psf-kron\", \"psdr2_y_psf-kron\",\n",
    "                        ]]\n",
    "features = features.loc[features.replace([-np.inf, np.inf], np.nan).notna().all(axis=1)]\n",
    "\n",
    "features_pca = pca.fit_transform(features.iloc[:, 1:].values)\n",
    "\n",
    "data = pd.DataFrame(features_pca, index=features.index)\n",
    "data[\"Class\"] = features[\"Class\"]\n",
    "\n",
    "plt.figure(figsize=(20, 20))\n",
    "sns.pairplot(data, hue=\"Class\", markers=[\"x\", \"+\"])\n",
    "plt.show()"
   ],
   "metadata": {
    "collapsed": false,
    "pycharm": {
     "name": "#%%\n"
    }
   }
  }
 ],
 "metadata": {
  "kernelspec": {
   "display_name": "Python 3",
   "language": "python",
   "name": "python3"
  },
  "language_info": {
   "codemirror_mode": {
    "name": "ipython",
    "version": 2
   },
   "file_extension": ".py",
   "mimetype": "text/x-python",
   "name": "python",
   "nbconvert_exporter": "python",
   "pygments_lexer": "ipython2",
   "version": "2.7.6"
  }
 },
 "nbformat": 4,
 "nbformat_minor": 0
}